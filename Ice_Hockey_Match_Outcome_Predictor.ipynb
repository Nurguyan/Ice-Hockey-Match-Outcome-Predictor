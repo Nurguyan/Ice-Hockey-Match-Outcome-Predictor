{
  "nbformat": 4,
  "nbformat_minor": 0,
  "metadata": {
    "colab": {
      "name": "Ice-Hockey-Match-Outcome-Predictor.ipynb",
      "provenance": [],
      "collapsed_sections": [],
      "include_colab_link": true
    },
    "kernelspec": {
      "name": "python3",
      "display_name": "Python 3"
    }
  },
  "cells": [
    {
      "cell_type": "markdown",
      "metadata": {
        "id": "view-in-github",
        "colab_type": "text"
      },
      "source": [
        "<a href=\"https://colab.research.google.com/github/Nurguyan/Ice-Hockey-Match-Outcome-Predictor/blob/main/Ice_Hockey_Match_Outcome_Predictor.ipynb\" target=\"_parent\"><img src=\"https://colab.research.google.com/assets/colab-badge.svg\" alt=\"Open In Colab\"/></a>"
      ]
    },
    {
      "cell_type": "code",
      "metadata": {
        "id": "my16SM3edrwT",
        "colab": {
          "base_uri": "https://localhost:8080/"
        },
        "outputId": "534a8413-8cca-47a3-9257-e9f972510fe4"
      },
      "source": [
        "import numpy as np\n",
        "import pandas as pd\n",
        "import tensorflow as tf\n",
        "\n",
        "url = 'https://raw.githubusercontent.com/Nurguyan/Ice-Hockey-Match-Outcome-Predictor/main/data/data.csv'\n",
        "\n",
        "df = pd.read_csv(url)\n",
        "print(df[:2])"
      ],
      "execution_count": 1,
      "outputs": [
        {
          "output_type": "stream",
          "text": [
            "         Date Location Team   GF   GA  ...    Sh%    Sv%    PP%    PK%  Class\n",
            "0  07/09/2018     Home  LON  247  161  ...  36.85  29.08  26.17  82.06   Loss\n",
            "1  07/09/2018     Away  TER  223  144  ...  40.69  32.31  32.44  84.10    Win\n",
            "\n",
            "[2 rows x 12 columns]\n"
          ],
          "name": "stdout"
        }
      ]
    },
    {
      "cell_type": "code",
      "metadata": {
        "colab": {
          "base_uri": "https://localhost:8080/"
        },
        "id": "dPLYrmEcFJGU",
        "outputId": "72903041-76d5-44d1-f66d-16373636b495"
      },
      "source": [
        "#we assume that outcome of the match do not depend on its date\n",
        "df = df.drop(['Date'], axis=1)\n",
        "\n",
        "#convert categorical data into integers\n",
        "df = pd.get_dummies(df, columns=['Team'])\n",
        "df['Location'] = (df['Location'] == 'Home').astype(int)\n",
        "df['Class'] = (df['Class'] == 'Win').astype(int)\n",
        "\n",
        "print(df[:5])\n",
        "df.info()"
      ],
      "execution_count": 2,
      "outputs": [
        {
          "output_type": "stream",
          "text": [
            "   Location   GF   GA   GF%  ...  Team_STJ  Team_TER  Team_VAL  Team_WIS\n",
            "0         1  247  161  5.15  ...         0         0         0         0\n",
            "1         0  223  144  4.65  ...         0         1         0         0\n",
            "2         1  202  211  4.21  ...         0         0         0         0\n",
            "3         0  200  207  4.17  ...         0         0         0         0\n",
            "4         0  207  151  4.31  ...         1         0         0         0\n",
            "\n",
            "[5 rows x 21 columns]\n",
            "<class 'pandas.core.frame.DataFrame'>\n",
            "RangeIndex: 1008 entries, 0 to 1007\n",
            "Data columns (total 21 columns):\n",
            " #   Column    Non-Null Count  Dtype  \n",
            "---  ------    --------------  -----  \n",
            " 0   Location  1008 non-null   int64  \n",
            " 1   GF        1008 non-null   int64  \n",
            " 2   GA        1008 non-null   int64  \n",
            " 3   GF%       1008 non-null   float64\n",
            " 4   GA%       1008 non-null   float64\n",
            " 5   Sh%       1008 non-null   float64\n",
            " 6   Sv%       1008 non-null   float64\n",
            " 7   PP%       1008 non-null   float64\n",
            " 8   PK%       1008 non-null   float64\n",
            " 9   Class     1008 non-null   int64  \n",
            " 10  Team_CDS  1008 non-null   uint8  \n",
            " 11  Team_CHA  1008 non-null   uint8  \n",
            " 12  Team_GAT  1008 non-null   uint8  \n",
            " 13  Team_GRA  1008 non-null   uint8  \n",
            " 14  Team_LON  1008 non-null   uint8  \n",
            " 15  Team_MTE  1008 non-null   uint8  \n",
            " 16  Team_PRI  1008 non-null   uint8  \n",
            " 17  Team_STJ  1008 non-null   uint8  \n",
            " 18  Team_TER  1008 non-null   uint8  \n",
            " 19  Team_VAL  1008 non-null   uint8  \n",
            " 20  Team_WIS  1008 non-null   uint8  \n",
            "dtypes: float64(6), int64(4), uint8(11)\n",
            "memory usage: 89.7 KB\n"
          ],
          "name": "stdout"
        }
      ]
    },
    {
      "cell_type": "code",
      "metadata": {
        "colab": {
          "base_uri": "https://localhost:8080/"
        },
        "id": "5_UgQmeu3qkk",
        "outputId": "8235d1df-0ffc-4c66-8216-e3d89195b9a0"
      },
      "source": [
        "from sklearn.model_selection import train_test_split\n",
        "\n",
        "X_features = df.drop(['Class'], axis=1)\n",
        "Y_feature = df['Class']\n",
        "\n",
        "x_train, x_test, y_train, y_test = train_test_split(X_features, Y_feature, test_size=0.20, random_state=4)\n",
        "print(\"Using %d samples for training and %d for validation\" % (len(x_train), len(x_test)))"
      ],
      "execution_count": 3,
      "outputs": [
        {
          "output_type": "stream",
          "text": [
            "Using 806 samples for training and 202 for validation\n"
          ],
          "name": "stdout"
        }
      ]
    },
    {
      "cell_type": "code",
      "metadata": {
        "colab": {
          "base_uri": "https://localhost:8080/"
        },
        "id": "EdBYDxJAJC2w",
        "outputId": "e3532b62-9953-4c3c-cebb-c5aedafe30a9"
      },
      "source": [
        "from sklearn.preprocessing import MinMaxScaler\n",
        "\n",
        "#normalize features\n",
        "scaler = MinMaxScaler()\n",
        "x_train = pd.DataFrame(scaler.fit_transform(x_train), columns = x_train.columns)\n",
        "x_test = pd.DataFrame(scaler.transform(x_test), columns = x_test.columns)\n",
        "\n",
        "print(x_train[:5])"
      ],
      "execution_count": 4,
      "outputs": [
        {
          "output_type": "stream",
          "text": [
            "   Location        GF        GA  ...  Team_TER  Team_VAL  Team_WIS\n",
            "0       1.0  0.038760  1.000000  ...       0.0       0.0       1.0\n",
            "1       1.0  0.139535  0.713415  ...       0.0       0.0       0.0\n",
            "2       1.0  0.542636  0.164634  ...       1.0       0.0       0.0\n",
            "3       1.0  0.937984  0.000000  ...       0.0       0.0       0.0\n",
            "4       1.0  0.139535  0.713415  ...       0.0       0.0       0.0\n",
            "\n",
            "[5 rows x 20 columns]\n"
          ],
          "name": "stdout"
        }
      ]
    },
    {
      "cell_type": "code",
      "metadata": {
        "id": "OzrRxbYhLkgy"
      },
      "source": [
        "from keras.models import Sequential\n",
        "from keras.layers import Dense\n",
        "\n",
        "# define the keras model\n",
        "model = Sequential()\n",
        "model.add(Dense(10, activation='relu'))\n",
        "model.add(Dense(10, activation='relu'))\n",
        "model.add(Dense(1, activation='sigmoid'))\n",
        "\n",
        "# compile the keras model\n",
        "model.compile(loss='binary_crossentropy', optimizer='adam', metrics=['accuracy'])"
      ],
      "execution_count": 17,
      "outputs": []
    },
    {
      "cell_type": "code",
      "metadata": {
        "id": "P3Eh2kLYLyl2",
        "colab": {
          "base_uri": "https://localhost:8080/"
        },
        "outputId": "083e5502-7abf-4fda-a703-73f0e5e57242"
      },
      "source": [
        "history = model.fit(x=x_train, y=y_train, validation_data=(x_test, y_test), epochs=150, verbose=1)"
      ],
      "execution_count": 18,
      "outputs": [
        {
          "output_type": "stream",
          "text": [
            "Epoch 1/150\n",
            "WARNING:tensorflow:Layer dense_6 is casting an input tensor from dtype float64 to the layer's dtype of float32, which is new behavior in TensorFlow 2.  The layer has dtype float32 because its dtype defaults to floatx.\n",
            "\n",
            "If you intended to run this layer in float32, you can safely ignore this warning. If in doubt, this warning is likely only an issue if you are porting a TensorFlow 1.X model to TensorFlow 2.\n",
            "\n",
            "To change all layers to have dtype float64 by default, call `tf.keras.backend.set_floatx('float64')`. To change just this layer, pass dtype='float64' to the layer constructor. If you are the author of this layer, you can disable autocasting by passing autocast=False to the base Layer constructor.\n",
            "\n",
            "26/26 [==============================] - 0s 7ms/step - loss: 0.7007 - accuracy: 0.5509 - val_loss: 0.6898 - val_accuracy: 0.5446\n",
            "Epoch 2/150\n",
            "26/26 [==============================] - 0s 2ms/step - loss: 0.6875 - accuracy: 0.5509 - val_loss: 0.6778 - val_accuracy: 0.5396\n",
            "Epoch 3/150\n",
            "26/26 [==============================] - 0s 2ms/step - loss: 0.6755 - accuracy: 0.5658 - val_loss: 0.6633 - val_accuracy: 0.5792\n",
            "Epoch 4/150\n",
            "26/26 [==============================] - 0s 2ms/step - loss: 0.6633 - accuracy: 0.6290 - val_loss: 0.6525 - val_accuracy: 0.6188\n",
            "Epoch 5/150\n",
            "26/26 [==============================] - 0s 2ms/step - loss: 0.6551 - accuracy: 0.6315 - val_loss: 0.6433 - val_accuracy: 0.6139\n",
            "Epoch 6/150\n",
            "26/26 [==============================] - 0s 2ms/step - loss: 0.6476 - accuracy: 0.6427 - val_loss: 0.6354 - val_accuracy: 0.6287\n",
            "Epoch 7/150\n",
            "26/26 [==============================] - 0s 2ms/step - loss: 0.6428 - accuracy: 0.6377 - val_loss: 0.6301 - val_accuracy: 0.6287\n",
            "Epoch 8/150\n",
            "26/26 [==============================] - 0s 2ms/step - loss: 0.6392 - accuracy: 0.6365 - val_loss: 0.6265 - val_accuracy: 0.6287\n",
            "Epoch 9/150\n",
            "26/26 [==============================] - 0s 2ms/step - loss: 0.6368 - accuracy: 0.6352 - val_loss: 0.6251 - val_accuracy: 0.6287\n",
            "Epoch 10/150\n",
            "26/26 [==============================] - 0s 2ms/step - loss: 0.6351 - accuracy: 0.6452 - val_loss: 0.6251 - val_accuracy: 0.6287\n",
            "Epoch 11/150\n",
            "26/26 [==============================] - 0s 2ms/step - loss: 0.6344 - accuracy: 0.6526 - val_loss: 0.6246 - val_accuracy: 0.6287\n",
            "Epoch 12/150\n",
            "26/26 [==============================] - 0s 2ms/step - loss: 0.6332 - accuracy: 0.6501 - val_loss: 0.6245 - val_accuracy: 0.6386\n",
            "Epoch 13/150\n",
            "26/26 [==============================] - 0s 2ms/step - loss: 0.6326 - accuracy: 0.6489 - val_loss: 0.6240 - val_accuracy: 0.6386\n",
            "Epoch 14/150\n",
            "26/26 [==============================] - 0s 2ms/step - loss: 0.6319 - accuracy: 0.6489 - val_loss: 0.6239 - val_accuracy: 0.6386\n",
            "Epoch 15/150\n",
            "26/26 [==============================] - 0s 2ms/step - loss: 0.6314 - accuracy: 0.6489 - val_loss: 0.6238 - val_accuracy: 0.6386\n",
            "Epoch 16/150\n",
            "26/26 [==============================] - 0s 2ms/step - loss: 0.6314 - accuracy: 0.6476 - val_loss: 0.6243 - val_accuracy: 0.6337\n",
            "Epoch 17/150\n",
            "26/26 [==============================] - 0s 2ms/step - loss: 0.6313 - accuracy: 0.6464 - val_loss: 0.6243 - val_accuracy: 0.6386\n",
            "Epoch 18/150\n",
            "26/26 [==============================] - 0s 2ms/step - loss: 0.6311 - accuracy: 0.6476 - val_loss: 0.6252 - val_accuracy: 0.6337\n",
            "Epoch 19/150\n",
            "26/26 [==============================] - 0s 2ms/step - loss: 0.6303 - accuracy: 0.6489 - val_loss: 0.6245 - val_accuracy: 0.6386\n",
            "Epoch 20/150\n",
            "26/26 [==============================] - 0s 2ms/step - loss: 0.6305 - accuracy: 0.6514 - val_loss: 0.6242 - val_accuracy: 0.6386\n",
            "Epoch 21/150\n",
            "26/26 [==============================] - 0s 2ms/step - loss: 0.6304 - accuracy: 0.6551 - val_loss: 0.6251 - val_accuracy: 0.6337\n",
            "Epoch 22/150\n",
            "26/26 [==============================] - 0s 2ms/step - loss: 0.6302 - accuracy: 0.6514 - val_loss: 0.6249 - val_accuracy: 0.6386\n",
            "Epoch 23/150\n",
            "26/26 [==============================] - 0s 2ms/step - loss: 0.6298 - accuracy: 0.6501 - val_loss: 0.6252 - val_accuracy: 0.6337\n",
            "Epoch 24/150\n",
            "26/26 [==============================] - 0s 2ms/step - loss: 0.6297 - accuracy: 0.6501 - val_loss: 0.6252 - val_accuracy: 0.6386\n",
            "Epoch 25/150\n",
            "26/26 [==============================] - 0s 2ms/step - loss: 0.6295 - accuracy: 0.6538 - val_loss: 0.6246 - val_accuracy: 0.6436\n",
            "Epoch 26/150\n",
            "26/26 [==============================] - 0s 2ms/step - loss: 0.6294 - accuracy: 0.6551 - val_loss: 0.6253 - val_accuracy: 0.6386\n",
            "Epoch 27/150\n",
            "26/26 [==============================] - 0s 2ms/step - loss: 0.6293 - accuracy: 0.6514 - val_loss: 0.6253 - val_accuracy: 0.6386\n",
            "Epoch 28/150\n",
            "26/26 [==============================] - 0s 2ms/step - loss: 0.6289 - accuracy: 0.6514 - val_loss: 0.6256 - val_accuracy: 0.6386\n",
            "Epoch 29/150\n",
            "26/26 [==============================] - 0s 2ms/step - loss: 0.6296 - accuracy: 0.6551 - val_loss: 0.6271 - val_accuracy: 0.6337\n",
            "Epoch 30/150\n",
            "26/26 [==============================] - 0s 2ms/step - loss: 0.6290 - accuracy: 0.6514 - val_loss: 0.6260 - val_accuracy: 0.6386\n",
            "Epoch 31/150\n",
            "26/26 [==============================] - 0s 2ms/step - loss: 0.6285 - accuracy: 0.6501 - val_loss: 0.6260 - val_accuracy: 0.6386\n",
            "Epoch 32/150\n",
            "26/26 [==============================] - 0s 2ms/step - loss: 0.6293 - accuracy: 0.6551 - val_loss: 0.6265 - val_accuracy: 0.6386\n",
            "Epoch 33/150\n",
            "26/26 [==============================] - 0s 2ms/step - loss: 0.6288 - accuracy: 0.6501 - val_loss: 0.6284 - val_accuracy: 0.6337\n",
            "Epoch 34/150\n",
            "26/26 [==============================] - 0s 2ms/step - loss: 0.6282 - accuracy: 0.6551 - val_loss: 0.6265 - val_accuracy: 0.6386\n",
            "Epoch 35/150\n",
            "26/26 [==============================] - 0s 2ms/step - loss: 0.6279 - accuracy: 0.6464 - val_loss: 0.6270 - val_accuracy: 0.6386\n",
            "Epoch 36/150\n",
            "26/26 [==============================] - 0s 2ms/step - loss: 0.6280 - accuracy: 0.6514 - val_loss: 0.6263 - val_accuracy: 0.6386\n",
            "Epoch 37/150\n",
            "26/26 [==============================] - 0s 2ms/step - loss: 0.6278 - accuracy: 0.6526 - val_loss: 0.6273 - val_accuracy: 0.6386\n",
            "Epoch 38/150\n",
            "26/26 [==============================] - 0s 2ms/step - loss: 0.6278 - accuracy: 0.6514 - val_loss: 0.6278 - val_accuracy: 0.6386\n",
            "Epoch 39/150\n",
            "26/26 [==============================] - 0s 2ms/step - loss: 0.6282 - accuracy: 0.6489 - val_loss: 0.6280 - val_accuracy: 0.6386\n",
            "Epoch 40/150\n",
            "26/26 [==============================] - 0s 2ms/step - loss: 0.6280 - accuracy: 0.6476 - val_loss: 0.6273 - val_accuracy: 0.6386\n",
            "Epoch 41/150\n",
            "26/26 [==============================] - 0s 2ms/step - loss: 0.6277 - accuracy: 0.6514 - val_loss: 0.6283 - val_accuracy: 0.6386\n",
            "Epoch 42/150\n",
            "26/26 [==============================] - 0s 2ms/step - loss: 0.6276 - accuracy: 0.6501 - val_loss: 0.6284 - val_accuracy: 0.6386\n",
            "Epoch 43/150\n",
            "26/26 [==============================] - 0s 2ms/step - loss: 0.6275 - accuracy: 0.6514 - val_loss: 0.6272 - val_accuracy: 0.6436\n",
            "Epoch 44/150\n",
            "26/26 [==============================] - 0s 2ms/step - loss: 0.6274 - accuracy: 0.6501 - val_loss: 0.6272 - val_accuracy: 0.6386\n",
            "Epoch 45/150\n",
            "26/26 [==============================] - 0s 2ms/step - loss: 0.6271 - accuracy: 0.6551 - val_loss: 0.6267 - val_accuracy: 0.6386\n",
            "Epoch 46/150\n",
            "26/26 [==============================] - 0s 2ms/step - loss: 0.6273 - accuracy: 0.6514 - val_loss: 0.6280 - val_accuracy: 0.6386\n",
            "Epoch 47/150\n",
            "26/26 [==============================] - 0s 2ms/step - loss: 0.6271 - accuracy: 0.6551 - val_loss: 0.6273 - val_accuracy: 0.6386\n",
            "Epoch 48/150\n",
            "26/26 [==============================] - 0s 2ms/step - loss: 0.6271 - accuracy: 0.6538 - val_loss: 0.6267 - val_accuracy: 0.6386\n",
            "Epoch 49/150\n",
            "26/26 [==============================] - 0s 2ms/step - loss: 0.6269 - accuracy: 0.6576 - val_loss: 0.6277 - val_accuracy: 0.6436\n",
            "Epoch 50/150\n",
            "26/26 [==============================] - 0s 2ms/step - loss: 0.6270 - accuracy: 0.6538 - val_loss: 0.6283 - val_accuracy: 0.6337\n",
            "Epoch 51/150\n",
            "26/26 [==============================] - 0s 2ms/step - loss: 0.6266 - accuracy: 0.6576 - val_loss: 0.6283 - val_accuracy: 0.6436\n",
            "Epoch 52/150\n",
            "26/26 [==============================] - 0s 2ms/step - loss: 0.6270 - accuracy: 0.6576 - val_loss: 0.6278 - val_accuracy: 0.6436\n",
            "Epoch 53/150\n",
            "26/26 [==============================] - 0s 2ms/step - loss: 0.6268 - accuracy: 0.6526 - val_loss: 0.6290 - val_accuracy: 0.6386\n",
            "Epoch 54/150\n",
            "26/26 [==============================] - 0s 2ms/step - loss: 0.6262 - accuracy: 0.6563 - val_loss: 0.6284 - val_accuracy: 0.6436\n",
            "Epoch 55/150\n",
            "26/26 [==============================] - 0s 2ms/step - loss: 0.6276 - accuracy: 0.6576 - val_loss: 0.6282 - val_accuracy: 0.6436\n",
            "Epoch 56/150\n",
            "26/26 [==============================] - 0s 2ms/step - loss: 0.6270 - accuracy: 0.6538 - val_loss: 0.6291 - val_accuracy: 0.6386\n",
            "Epoch 57/150\n",
            "26/26 [==============================] - 0s 2ms/step - loss: 0.6267 - accuracy: 0.6514 - val_loss: 0.6291 - val_accuracy: 0.6436\n",
            "Epoch 58/150\n",
            "26/26 [==============================] - 0s 2ms/step - loss: 0.6264 - accuracy: 0.6576 - val_loss: 0.6285 - val_accuracy: 0.6436\n",
            "Epoch 59/150\n",
            "26/26 [==============================] - 0s 2ms/step - loss: 0.6265 - accuracy: 0.6476 - val_loss: 0.6289 - val_accuracy: 0.6337\n",
            "Epoch 60/150\n",
            "26/26 [==============================] - 0s 2ms/step - loss: 0.6263 - accuracy: 0.6538 - val_loss: 0.6286 - val_accuracy: 0.6436\n",
            "Epoch 61/150\n",
            "26/26 [==============================] - 0s 2ms/step - loss: 0.6263 - accuracy: 0.6501 - val_loss: 0.6296 - val_accuracy: 0.6386\n",
            "Epoch 62/150\n",
            "26/26 [==============================] - 0s 2ms/step - loss: 0.6265 - accuracy: 0.6563 - val_loss: 0.6299 - val_accuracy: 0.6436\n",
            "Epoch 63/150\n",
            "26/26 [==============================] - 0s 2ms/step - loss: 0.6262 - accuracy: 0.6514 - val_loss: 0.6302 - val_accuracy: 0.6386\n",
            "Epoch 64/150\n",
            "26/26 [==============================] - 0s 2ms/step - loss: 0.6262 - accuracy: 0.6489 - val_loss: 0.6305 - val_accuracy: 0.6386\n",
            "Epoch 65/150\n",
            "26/26 [==============================] - 0s 3ms/step - loss: 0.6262 - accuracy: 0.6563 - val_loss: 0.6290 - val_accuracy: 0.6436\n",
            "Epoch 66/150\n",
            "26/26 [==============================] - 0s 2ms/step - loss: 0.6257 - accuracy: 0.6576 - val_loss: 0.6296 - val_accuracy: 0.6436\n",
            "Epoch 67/150\n",
            "26/26 [==============================] - 0s 2ms/step - loss: 0.6257 - accuracy: 0.6600 - val_loss: 0.6299 - val_accuracy: 0.6337\n",
            "Epoch 68/150\n",
            "26/26 [==============================] - 0s 2ms/step - loss: 0.6258 - accuracy: 0.6551 - val_loss: 0.6293 - val_accuracy: 0.6436\n",
            "Epoch 69/150\n",
            "26/26 [==============================] - 0s 2ms/step - loss: 0.6264 - accuracy: 0.6538 - val_loss: 0.6298 - val_accuracy: 0.6386\n",
            "Epoch 70/150\n",
            "26/26 [==============================] - 0s 2ms/step - loss: 0.6259 - accuracy: 0.6526 - val_loss: 0.6289 - val_accuracy: 0.6436\n",
            "Epoch 71/150\n",
            "26/26 [==============================] - 0s 2ms/step - loss: 0.6265 - accuracy: 0.6576 - val_loss: 0.6289 - val_accuracy: 0.6436\n",
            "Epoch 72/150\n",
            "26/26 [==============================] - 0s 2ms/step - loss: 0.6258 - accuracy: 0.6576 - val_loss: 0.6293 - val_accuracy: 0.6436\n",
            "Epoch 73/150\n",
            "26/26 [==============================] - 0s 2ms/step - loss: 0.6254 - accuracy: 0.6576 - val_loss: 0.6288 - val_accuracy: 0.6436\n",
            "Epoch 74/150\n",
            "26/26 [==============================] - 0s 2ms/step - loss: 0.6261 - accuracy: 0.6464 - val_loss: 0.6291 - val_accuracy: 0.6386\n",
            "Epoch 75/150\n",
            "26/26 [==============================] - 0s 2ms/step - loss: 0.6256 - accuracy: 0.6551 - val_loss: 0.6293 - val_accuracy: 0.6436\n",
            "Epoch 76/150\n",
            "26/26 [==============================] - 0s 2ms/step - loss: 0.6257 - accuracy: 0.6576 - val_loss: 0.6295 - val_accuracy: 0.6436\n",
            "Epoch 77/150\n",
            "26/26 [==============================] - 0s 2ms/step - loss: 0.6257 - accuracy: 0.6489 - val_loss: 0.6290 - val_accuracy: 0.6436\n",
            "Epoch 78/150\n",
            "26/26 [==============================] - 0s 2ms/step - loss: 0.6255 - accuracy: 0.6576 - val_loss: 0.6291 - val_accuracy: 0.6436\n",
            "Epoch 79/150\n",
            "26/26 [==============================] - 0s 2ms/step - loss: 0.6253 - accuracy: 0.6576 - val_loss: 0.6287 - val_accuracy: 0.6436\n",
            "Epoch 80/150\n",
            "26/26 [==============================] - 0s 2ms/step - loss: 0.6249 - accuracy: 0.6576 - val_loss: 0.6296 - val_accuracy: 0.6436\n",
            "Epoch 81/150\n",
            "26/26 [==============================] - 0s 2ms/step - loss: 0.6259 - accuracy: 0.6563 - val_loss: 0.6299 - val_accuracy: 0.6436\n",
            "Epoch 82/150\n",
            "26/26 [==============================] - 0s 2ms/step - loss: 0.6255 - accuracy: 0.6551 - val_loss: 0.6297 - val_accuracy: 0.6436\n",
            "Epoch 83/150\n",
            "26/26 [==============================] - 0s 2ms/step - loss: 0.6251 - accuracy: 0.6576 - val_loss: 0.6289 - val_accuracy: 0.6436\n",
            "Epoch 84/150\n",
            "26/26 [==============================] - 0s 2ms/step - loss: 0.6249 - accuracy: 0.6563 - val_loss: 0.6298 - val_accuracy: 0.6436\n",
            "Epoch 85/150\n",
            "26/26 [==============================] - 0s 2ms/step - loss: 0.6250 - accuracy: 0.6576 - val_loss: 0.6295 - val_accuracy: 0.6436\n",
            "Epoch 86/150\n",
            "26/26 [==============================] - 0s 2ms/step - loss: 0.6254 - accuracy: 0.6551 - val_loss: 0.6293 - val_accuracy: 0.6436\n",
            "Epoch 87/150\n",
            "26/26 [==============================] - 0s 2ms/step - loss: 0.6256 - accuracy: 0.6489 - val_loss: 0.6299 - val_accuracy: 0.6337\n",
            "Epoch 88/150\n",
            "26/26 [==============================] - 0s 2ms/step - loss: 0.6248 - accuracy: 0.6576 - val_loss: 0.6293 - val_accuracy: 0.6436\n",
            "Epoch 89/150\n",
            "26/26 [==============================] - 0s 2ms/step - loss: 0.6251 - accuracy: 0.6576 - val_loss: 0.6290 - val_accuracy: 0.6436\n",
            "Epoch 90/150\n",
            "26/26 [==============================] - 0s 2ms/step - loss: 0.6254 - accuracy: 0.6526 - val_loss: 0.6301 - val_accuracy: 0.6436\n",
            "Epoch 91/150\n",
            "26/26 [==============================] - 0s 2ms/step - loss: 0.6249 - accuracy: 0.6576 - val_loss: 0.6294 - val_accuracy: 0.6436\n",
            "Epoch 92/150\n",
            "26/26 [==============================] - 0s 2ms/step - loss: 0.6246 - accuracy: 0.6576 - val_loss: 0.6292 - val_accuracy: 0.6436\n",
            "Epoch 93/150\n",
            "26/26 [==============================] - 0s 2ms/step - loss: 0.6245 - accuracy: 0.6576 - val_loss: 0.6299 - val_accuracy: 0.6436\n",
            "Epoch 94/150\n",
            "26/26 [==============================] - 0s 2ms/step - loss: 0.6249 - accuracy: 0.6576 - val_loss: 0.6294 - val_accuracy: 0.6436\n",
            "Epoch 95/150\n",
            "26/26 [==============================] - 0s 2ms/step - loss: 0.6244 - accuracy: 0.6576 - val_loss: 0.6286 - val_accuracy: 0.6436\n",
            "Epoch 96/150\n",
            "26/26 [==============================] - 0s 2ms/step - loss: 0.6247 - accuracy: 0.6576 - val_loss: 0.6283 - val_accuracy: 0.6436\n",
            "Epoch 97/150\n",
            "26/26 [==============================] - 0s 2ms/step - loss: 0.6246 - accuracy: 0.6576 - val_loss: 0.6287 - val_accuracy: 0.6436\n",
            "Epoch 98/150\n",
            "26/26 [==============================] - 0s 2ms/step - loss: 0.6244 - accuracy: 0.6576 - val_loss: 0.6284 - val_accuracy: 0.6436\n",
            "Epoch 99/150\n",
            "26/26 [==============================] - 0s 2ms/step - loss: 0.6243 - accuracy: 0.6576 - val_loss: 0.6287 - val_accuracy: 0.6436\n",
            "Epoch 100/150\n",
            "26/26 [==============================] - 0s 2ms/step - loss: 0.6243 - accuracy: 0.6576 - val_loss: 0.6287 - val_accuracy: 0.6436\n",
            "Epoch 101/150\n",
            "26/26 [==============================] - 0s 2ms/step - loss: 0.6254 - accuracy: 0.6576 - val_loss: 0.6291 - val_accuracy: 0.6436\n",
            "Epoch 102/150\n",
            "26/26 [==============================] - 0s 2ms/step - loss: 0.6248 - accuracy: 0.6576 - val_loss: 0.6288 - val_accuracy: 0.6436\n",
            "Epoch 103/150\n",
            "26/26 [==============================] - 0s 2ms/step - loss: 0.6244 - accuracy: 0.6576 - val_loss: 0.6297 - val_accuracy: 0.6436\n",
            "Epoch 104/150\n",
            "26/26 [==============================] - 0s 2ms/step - loss: 0.6243 - accuracy: 0.6576 - val_loss: 0.6292 - val_accuracy: 0.6436\n",
            "Epoch 105/150\n",
            "26/26 [==============================] - 0s 2ms/step - loss: 0.6240 - accuracy: 0.6576 - val_loss: 0.6300 - val_accuracy: 0.6436\n",
            "Epoch 106/150\n",
            "26/26 [==============================] - 0s 2ms/step - loss: 0.6239 - accuracy: 0.6576 - val_loss: 0.6308 - val_accuracy: 0.6436\n",
            "Epoch 107/150\n",
            "26/26 [==============================] - 0s 2ms/step - loss: 0.6240 - accuracy: 0.6600 - val_loss: 0.6306 - val_accuracy: 0.6436\n",
            "Epoch 108/150\n",
            "26/26 [==============================] - 0s 2ms/step - loss: 0.6247 - accuracy: 0.6600 - val_loss: 0.6302 - val_accuracy: 0.6436\n",
            "Epoch 109/150\n",
            "26/26 [==============================] - 0s 2ms/step - loss: 0.6239 - accuracy: 0.6638 - val_loss: 0.6294 - val_accuracy: 0.6436\n",
            "Epoch 110/150\n",
            "26/26 [==============================] - 0s 2ms/step - loss: 0.6243 - accuracy: 0.6576 - val_loss: 0.6304 - val_accuracy: 0.6436\n",
            "Epoch 111/150\n",
            "26/26 [==============================] - 0s 2ms/step - loss: 0.6242 - accuracy: 0.6613 - val_loss: 0.6304 - val_accuracy: 0.6436\n",
            "Epoch 112/150\n",
            "26/26 [==============================] - 0s 2ms/step - loss: 0.6248 - accuracy: 0.6576 - val_loss: 0.6309 - val_accuracy: 0.6436\n",
            "Epoch 113/150\n",
            "26/26 [==============================] - 0s 2ms/step - loss: 0.6240 - accuracy: 0.6588 - val_loss: 0.6306 - val_accuracy: 0.6436\n",
            "Epoch 114/150\n",
            "26/26 [==============================] - 0s 2ms/step - loss: 0.6240 - accuracy: 0.6576 - val_loss: 0.6308 - val_accuracy: 0.6436\n",
            "Epoch 115/150\n",
            "26/26 [==============================] - 0s 2ms/step - loss: 0.6244 - accuracy: 0.6613 - val_loss: 0.6305 - val_accuracy: 0.6436\n",
            "Epoch 116/150\n",
            "26/26 [==============================] - 0s 2ms/step - loss: 0.6239 - accuracy: 0.6514 - val_loss: 0.6324 - val_accuracy: 0.6386\n",
            "Epoch 117/150\n",
            "26/26 [==============================] - 0s 2ms/step - loss: 0.6237 - accuracy: 0.6576 - val_loss: 0.6321 - val_accuracy: 0.6436\n",
            "Epoch 118/150\n",
            "26/26 [==============================] - 0s 2ms/step - loss: 0.6236 - accuracy: 0.6576 - val_loss: 0.6316 - val_accuracy: 0.6436\n",
            "Epoch 119/150\n",
            "26/26 [==============================] - 0s 2ms/step - loss: 0.6234 - accuracy: 0.6600 - val_loss: 0.6315 - val_accuracy: 0.6436\n",
            "Epoch 120/150\n",
            "26/26 [==============================] - 0s 2ms/step - loss: 0.6240 - accuracy: 0.6563 - val_loss: 0.6313 - val_accuracy: 0.6436\n",
            "Epoch 121/150\n",
            "26/26 [==============================] - 0s 2ms/step - loss: 0.6238 - accuracy: 0.6576 - val_loss: 0.6314 - val_accuracy: 0.6436\n",
            "Epoch 122/150\n",
            "26/26 [==============================] - 0s 2ms/step - loss: 0.6238 - accuracy: 0.6551 - val_loss: 0.6307 - val_accuracy: 0.6436\n",
            "Epoch 123/150\n",
            "26/26 [==============================] - 0s 2ms/step - loss: 0.6233 - accuracy: 0.6576 - val_loss: 0.6318 - val_accuracy: 0.6436\n",
            "Epoch 124/150\n",
            "26/26 [==============================] - 0s 2ms/step - loss: 0.6234 - accuracy: 0.6625 - val_loss: 0.6311 - val_accuracy: 0.6436\n",
            "Epoch 125/150\n",
            "26/26 [==============================] - 0s 2ms/step - loss: 0.6230 - accuracy: 0.6588 - val_loss: 0.6311 - val_accuracy: 0.6436\n",
            "Epoch 126/150\n",
            "26/26 [==============================] - 0s 2ms/step - loss: 0.6234 - accuracy: 0.6588 - val_loss: 0.6304 - val_accuracy: 0.6436\n",
            "Epoch 127/150\n",
            "26/26 [==============================] - 0s 2ms/step - loss: 0.6234 - accuracy: 0.6663 - val_loss: 0.6305 - val_accuracy: 0.6436\n",
            "Epoch 128/150\n",
            "26/26 [==============================] - 0s 2ms/step - loss: 0.6232 - accuracy: 0.6576 - val_loss: 0.6308 - val_accuracy: 0.6436\n",
            "Epoch 129/150\n",
            "26/26 [==============================] - 0s 2ms/step - loss: 0.6231 - accuracy: 0.6576 - val_loss: 0.6307 - val_accuracy: 0.6436\n",
            "Epoch 130/150\n",
            "26/26 [==============================] - 0s 2ms/step - loss: 0.6229 - accuracy: 0.6600 - val_loss: 0.6315 - val_accuracy: 0.6436\n",
            "Epoch 131/150\n",
            "26/26 [==============================] - 0s 2ms/step - loss: 0.6235 - accuracy: 0.6576 - val_loss: 0.6313 - val_accuracy: 0.6436\n",
            "Epoch 132/150\n",
            "26/26 [==============================] - 0s 2ms/step - loss: 0.6230 - accuracy: 0.6551 - val_loss: 0.6312 - val_accuracy: 0.6436\n",
            "Epoch 133/150\n",
            "26/26 [==============================] - 0s 2ms/step - loss: 0.6227 - accuracy: 0.6576 - val_loss: 0.6314 - val_accuracy: 0.6436\n",
            "Epoch 134/150\n",
            "26/26 [==============================] - 0s 2ms/step - loss: 0.6228 - accuracy: 0.6576 - val_loss: 0.6318 - val_accuracy: 0.6436\n",
            "Epoch 135/150\n",
            "26/26 [==============================] - 0s 2ms/step - loss: 0.6231 - accuracy: 0.6538 - val_loss: 0.6316 - val_accuracy: 0.6436\n",
            "Epoch 136/150\n",
            "26/26 [==============================] - 0s 3ms/step - loss: 0.6245 - accuracy: 0.6638 - val_loss: 0.6321 - val_accuracy: 0.6436\n",
            "Epoch 137/150\n",
            "26/26 [==============================] - 0s 2ms/step - loss: 0.6230 - accuracy: 0.6613 - val_loss: 0.6327 - val_accuracy: 0.6436\n",
            "Epoch 138/150\n",
            "26/26 [==============================] - 0s 2ms/step - loss: 0.6226 - accuracy: 0.6551 - val_loss: 0.6327 - val_accuracy: 0.6436\n",
            "Epoch 139/150\n",
            "26/26 [==============================] - 0s 2ms/step - loss: 0.6230 - accuracy: 0.6551 - val_loss: 0.6326 - val_accuracy: 0.6436\n",
            "Epoch 140/150\n",
            "26/26 [==============================] - 0s 2ms/step - loss: 0.6227 - accuracy: 0.6625 - val_loss: 0.6323 - val_accuracy: 0.6436\n",
            "Epoch 141/150\n",
            "26/26 [==============================] - 0s 2ms/step - loss: 0.6226 - accuracy: 0.6625 - val_loss: 0.6317 - val_accuracy: 0.6436\n",
            "Epoch 142/150\n",
            "26/26 [==============================] - 0s 2ms/step - loss: 0.6224 - accuracy: 0.6625 - val_loss: 0.6318 - val_accuracy: 0.6436\n",
            "Epoch 143/150\n",
            "26/26 [==============================] - 0s 2ms/step - loss: 0.6225 - accuracy: 0.6625 - val_loss: 0.6318 - val_accuracy: 0.6436\n",
            "Epoch 144/150\n",
            "26/26 [==============================] - 0s 3ms/step - loss: 0.6226 - accuracy: 0.6551 - val_loss: 0.6319 - val_accuracy: 0.6436\n",
            "Epoch 145/150\n",
            "26/26 [==============================] - 0s 2ms/step - loss: 0.6224 - accuracy: 0.6600 - val_loss: 0.6335 - val_accuracy: 0.6386\n",
            "Epoch 146/150\n",
            "26/26 [==============================] - 0s 2ms/step - loss: 0.6230 - accuracy: 0.6625 - val_loss: 0.6322 - val_accuracy: 0.6436\n",
            "Epoch 147/150\n",
            "26/26 [==============================] - 0s 2ms/step - loss: 0.6224 - accuracy: 0.6625 - val_loss: 0.6307 - val_accuracy: 0.6436\n",
            "Epoch 148/150\n",
            "26/26 [==============================] - 0s 2ms/step - loss: 0.6228 - accuracy: 0.6625 - val_loss: 0.6311 - val_accuracy: 0.6436\n",
            "Epoch 149/150\n",
            "26/26 [==============================] - 0s 2ms/step - loss: 0.6225 - accuracy: 0.6625 - val_loss: 0.6313 - val_accuracy: 0.6436\n",
            "Epoch 150/150\n",
            "26/26 [==============================] - 0s 2ms/step - loss: 0.6222 - accuracy: 0.6625 - val_loss: 0.6318 - val_accuracy: 0.6436\n"
          ],
          "name": "stdout"
        }
      ]
    },
    {
      "cell_type": "code",
      "metadata": {
        "colab": {
          "base_uri": "https://localhost:8080/",
          "height": 296
        },
        "id": "Kzm4Ryip6-r6",
        "outputId": "9a0aa5a0-1e62-482b-a0db-6f780a1b7d44"
      },
      "source": [
        "%matplotlib inline\n",
        "import matplotlib.pyplot as plt\n",
        "\n",
        "plt.plot(history.history['loss'])\n",
        "plt.plot(history.history['val_loss'])\n",
        "plt.legend(['loss', 'val_loss'])\n",
        "plt.xlabel('Epochs')"
      ],
      "execution_count": 19,
      "outputs": [
        {
          "output_type": "execute_result",
          "data": {
            "text/plain": [
              "Text(0.5, 0, 'Epochs')"
            ]
          },
          "metadata": {
            "tags": []
          },
          "execution_count": 19
        },
        {
          "output_type": "display_data",
          "data": {
            "image/png": "[encoded data removed]",
            "text/plain": [
              "<Figure size 432x288 with 1 Axes>"
            ]
          },
          "metadata": {
            "tags": [],
            "needs_background": "light"
          }
        }
      ]
    },
    {
      "cell_type": "code",
      "metadata": {
        "colab": {
          "base_uri": "https://localhost:8080/"
        },
        "id": "5G-7nila6rEI",
        "outputId": "8a530d3b-813c-413d-b317-0ad95b97ddc5"
      },
      "source": [
        "score = model.evaluate(x_test, y_test, verbose=0)\n",
        "print('test loss, test acc:', score)"
      ],
      "execution_count": 20,
      "outputs": [
        {
          "output_type": "stream",
          "text": [
            "test loss, test acc: [0.631760835647583, 0.6435643434524536]\n"
          ],
          "name": "stdout"
        }
      ]
    },
    {
      "cell_type": "code",
      "metadata": {
        "colab": {
          "base_uri": "https://localhost:8080/",
          "height": 296
        },
        "id": "SqIHyphS9MG_",
        "outputId": "975a3726-c302-406c-df7f-5c192108d71c"
      },
      "source": [
        "from sklearn.model_selection import train_test_split\r\n",
        "from sklearn.metrics import roc_curve\r\n",
        "from sklearn.metrics import roc_auc_score\r\n",
        "from matplotlib import pyplot\r\n",
        "\r\n",
        "probs = model.predict(x_test)\r\n",
        "# calculate roc curves\r\n",
        "FPR, TPR, _ = roc_curve(y_test, probs)\r\n",
        "# plot the roc curve for the model\r\n",
        "pyplot.plot(FPR, TPR)\r\n",
        "# axis labels\r\n",
        "pyplot.xlabel('False Positive Rate')\r\n",
        "pyplot.ylabel('True Positive Rate')\r\n",
        "# show the plot\r\n",
        "pyplot.show()\r\n",
        "\r\n",
        "# calculate scores\r\n",
        "auc = roc_auc_score(y_test, probs)\r\n",
        "print('ROC AUC=%.3f' % (auc))"
      ],
      "execution_count": 22,
      "outputs": [
        {
          "output_type": "display_data",
          "data": {
            "image/png": "[encoded data removed]",
            "text/plain": [
              "<Figure size 432x288 with 1 Axes>"
            ]
          },
          "metadata": {
            "tags": [],
            "needs_background": "light"
          }
        },
        {
          "output_type": "stream",
          "text": [
            "ROC AUC=0.693\n"
          ],
          "name": "stdout"
        }
      ]
    }
  ]
}