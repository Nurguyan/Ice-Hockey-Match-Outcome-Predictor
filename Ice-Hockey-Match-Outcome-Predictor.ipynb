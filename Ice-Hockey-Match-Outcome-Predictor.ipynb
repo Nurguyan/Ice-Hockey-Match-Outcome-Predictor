{
  "nbformat": 4,
  "nbformat_minor": 0,
  "metadata": {
    "colab": {
      "name": "Ice-Hockey-Match-Outcome-Predictor.ipynb",
      "provenance": [],
      "collapsed_sections": [],
      "authorship_tag": "ABX9TyOjT8IXNbYriDStvFCps1kR",
      "include_colab_link": true
    },
    "kernelspec": {
      "name": "python3",
      "display_name": "Python 3"
    }
  },
  "cells": [
    {
      "cell_type": "markdown",
      "metadata": {
        "id": "view-in-github",
        "colab_type": "text"
      },
      "source": [
        "<a href=\"https://colab.research.google.com/github/Nurguyan/Ice-Hockey-Match-Outcome-Predictor/blob/main/Ice-Hockey-Match-Outcome-Predictor.ipynb\" target=\"_parent\"><img src=\"https://colab.research.google.com/assets/colab-badge.svg\" alt=\"Open In Colab\"/></a>"
      ]
    },
    {
      "cell_type": "code",
      "metadata": {
        "id": "my16SM3edrwT",
        "colab": {
          "base_uri": "https://localhost:8080/"
        },
        "outputId": "a594c1a5-ab06-4b4c-dbc2-979888d59aa6"
      },
      "source": [
        "import numpy as np\n",
        "import pandas as pd\n",
        "import tensorflow as tf\n",
        "\n",
        "url = 'https://raw.githubusercontent.com/Nurguyan/Ice-Hockey-Match-Outcome-Predictor/main/data/data.csv'\n",
        "\n",
        "df = pd.read_csv(url)\n",
        "print(df[:2])"
      ],
      "execution_count": 10,
      "outputs": [
        {
          "output_type": "stream",
          "text": [
            "         Date Location Team   GF   GA  ...    Sh%    Sv%    PP%    PK%  Class\n",
            "0  07/09/2018     Home  LON  247  161  ...  36.85  29.08  26.17  82.06   Loss\n",
            "1  07/09/2018     Away  TER  223  144  ...  40.69  32.31  32.44  84.10    Win\n",
            "\n",
            "[2 rows x 12 columns]\n"
          ],
          "name": "stdout"
        }
      ]
    },
    {
      "cell_type": "code",
      "metadata": {
        "colab": {
          "base_uri": "https://localhost:8080/"
        },
        "id": "dPLYrmEcFJGU",
        "outputId": "62364a0d-6c1f-4e8f-809b-6b31dd429376"
      },
      "source": [
        "from sklearn import preprocessing\n",
        "\n",
        "#we don't need a date since it should not affect on matches' outcome\n",
        "df = df.drop(['Date'], axis=1)\n",
        "\n",
        "#convert categorical data into integers\n",
        "df = pd.get_dummies(df, columns=['Team'])\n",
        "df['Location'] = (df['Location'] == 'Home').astype(int)\n",
        "df['Class'] = (df['Class'] == 'Win').astype(int)\n",
        "\n",
        "print(df[:5])\n",
        "df.info()"
      ],
      "execution_count": 11,
      "outputs": [
        {
          "output_type": "stream",
          "text": [
            "   Location   GF   GA   GF%  ...  Team_STJ  Team_TER  Team_VAL  Team_WIS\n",
            "0         1  247  161  5.15  ...         0         0         0         0\n",
            "1         0  223  144  4.65  ...         0         1         0         0\n",
            "2         1  202  211  4.21  ...         0         0         0         0\n",
            "3         0  200  207  4.17  ...         0         0         0         0\n",
            "4         0  207  151  4.31  ...         1         0         0         0\n",
            "\n",
            "[5 rows x 21 columns]\n",
            "<class 'pandas.core.frame.DataFrame'>\n",
            "RangeIndex: 1008 entries, 0 to 1007\n",
            "Data columns (total 21 columns):\n",
            " #   Column    Non-Null Count  Dtype  \n",
            "---  ------    --------------  -----  \n",
            " 0   Location  1008 non-null   int64  \n",
            " 1   GF        1008 non-null   int64  \n",
            " 2   GA        1008 non-null   int64  \n",
            " 3   GF%       1008 non-null   float64\n",
            " 4   GA%       1008 non-null   float64\n",
            " 5   Sh%       1008 non-null   float64\n",
            " 6   Sv%       1008 non-null   float64\n",
            " 7   PP%       1008 non-null   float64\n",
            " 8   PK%       1008 non-null   float64\n",
            " 9   Class     1008 non-null   int64  \n",
            " 10  Team_CDS  1008 non-null   uint8  \n",
            " 11  Team_CHA  1008 non-null   uint8  \n",
            " 12  Team_GAT  1008 non-null   uint8  \n",
            " 13  Team_GRA  1008 non-null   uint8  \n",
            " 14  Team_LON  1008 non-null   uint8  \n",
            " 15  Team_MTE  1008 non-null   uint8  \n",
            " 16  Team_PRI  1008 non-null   uint8  \n",
            " 17  Team_STJ  1008 non-null   uint8  \n",
            " 18  Team_TER  1008 non-null   uint8  \n",
            " 19  Team_VAL  1008 non-null   uint8  \n",
            " 20  Team_WIS  1008 non-null   uint8  \n",
            "dtypes: float64(6), int64(4), uint8(11)\n",
            "memory usage: 89.7 KB\n"
          ],
          "name": "stdout"
        }
      ]
    },
    {
      "cell_type": "code",
      "metadata": {
        "colab": {
          "base_uri": "https://localhost:8080/"
        },
        "id": "EdBYDxJAJC2w",
        "outputId": "0677bb60-066a-4d1b-946f-2ac48bc0c20f"
      },
      "source": [
        "#normalize features\n",
        "x = df.values\n",
        "scaler = preprocessing.MinMaxScaler()\n",
        "x_scaled = scaler.fit_transform(x)\n",
        "df = pd.DataFrame(x_scaled)\n",
        "print(df[:5])"
      ],
      "execution_count": 3,
      "outputs": [
        {
          "output_type": "stream",
          "text": [
            "    0         1         2         3         4   ...   16   17   18   19   20\n",
            "0  1.0  0.728682  0.268293  0.728625  0.266862  ...  0.0  0.0  0.0  0.0  0.0\n",
            "1  0.0  0.542636  0.164634  0.542751  0.164223  ...  0.0  0.0  1.0  0.0  0.0\n",
            "2  1.0  0.379845  0.573171  0.379182  0.574780  ...  0.0  0.0  0.0  0.0  0.0\n",
            "3  0.0  0.364341  0.548780  0.364312  0.548387  ...  0.0  0.0  0.0  0.0  0.0\n",
            "4  0.0  0.418605  0.207317  0.416357  0.208211  ...  0.0  1.0  0.0  0.0  0.0\n",
            "\n",
            "[5 rows x 21 columns]\n"
          ],
          "name": "stdout"
        }
      ]
    },
    {
      "cell_type": "code",
      "metadata": {
        "colab": {
          "base_uri": "https://localhost:8080/"
        },
        "id": "wHxi9McZOs4-",
        "outputId": "f9cebd70-0e2e-4ab1-95eb-7c8ae87450ee"
      },
      "source": [
        "#split data to features and target\n",
        "target = df.pop(9) #pop \"Class\" as target\n",
        "dataset = tf.data.Dataset.from_tensor_slices((df.values, target.values))\n",
        "for feat, targ in dataset.take(3):\n",
        "  print ('Features: {}, Target: {}'.format(feat, targ))"
      ],
      "execution_count": 4,
      "outputs": [
        {
          "output_type": "stream",
          "text": [
            "Features: [1.         0.72868217 0.26829268 0.72862454 0.26686217 0.40210943\n",
            " 0.15392205 0.64049024 0.71820098 0.         0.         0.\n",
            " 0.         1.         0.         0.         0.         0.\n",
            " 0.         0.        ], Target: 0.0\n",
            "Features: [0.         0.54263566 0.16463415 0.54275093 0.16422287 0.65524061\n",
            " 0.31327084 0.92510213 0.86156008 0.         0.         0.\n",
            " 0.         0.         0.         0.         0.         1.\n",
            " 0.         0.        ], Target: 1.0\n",
            "Features: [1.         0.37984496 0.57317073 0.37918216 0.57478006 0.\n",
            " 0.41391219 0.18610985 0.44764582 0.         0.         0.\n",
            " 0.         0.         1.         0.         0.         0.\n",
            " 0.         0.        ], Target: 1.0\n"
          ],
          "name": "stdout"
        }
      ]
    },
    {
      "cell_type": "code",
      "metadata": {
        "id": "FyxGE82cO5Rl"
      },
      "source": [
        "#shuffle the dataset\n",
        "train_dataset = dataset.shuffle(len(df)).batch(1)"
      ],
      "execution_count": 5,
      "outputs": []
    },
    {
      "cell_type": "code",
      "metadata": {
        "id": "OzrRxbYhLkgy"
      },
      "source": [
        "from keras.models import Sequential\n",
        "from keras.layers import Dense\n",
        "\n",
        "# define the keras model\n",
        "model = Sequential()\n",
        "model.add(Dense(10, activation='relu'))\n",
        "model.add(Dense(10, activation='relu'))\n",
        "model.add(Dense(1, activation='sigmoid'))"
      ],
      "execution_count": 6,
      "outputs": []
    },
    {
      "cell_type": "code",
      "metadata": {
        "id": "P3Eh2kLYLyl2"
      },
      "source": [
        "# compile the keras model\n",
        "model.compile(loss='binary_crossentropy', optimizer='adam', metrics=['accuracy'])"
      ],
      "execution_count": 7,
      "outputs": []
    },
    {
      "cell_type": "code",
      "metadata": {
        "colab": {
          "base_uri": "https://localhost:8080/"
        },
        "id": "Um-UDVGVL0T8",
        "outputId": "2d5e0833-4ca7-4c6c-e8ab-1dc117d318ff"
      },
      "source": [
        "# fit the keras model on the dataset\n",
        "model.fit(train_dataset, epochs=20)"
      ],
      "execution_count": 8,
      "outputs": [
        {
          "output_type": "stream",
          "text": [
            "Epoch 1/20\n",
            "WARNING:tensorflow:Layer dense is casting an input tensor from dtype float64 to the layer's dtype of float32, which is new behavior in TensorFlow 2.  The layer has dtype float32 because its dtype defaults to floatx.\n",
            "\n",
            "If you intended to run this layer in float32, you can safely ignore this warning. If in doubt, this warning is likely only an issue if you are porting a TensorFlow 1.X model to TensorFlow 2.\n",
            "\n",
            "To change all layers to have dtype float64 by default, call `tf.keras.backend.set_floatx('float64')`. To change just this layer, pass dtype='float64' to the layer constructor. If you are the author of this layer, you can disable autocasting by passing autocast=False to the base Layer constructor.\n",
            "\n",
            "1008/1008 [==============================] - 1s 1ms/step - loss: 0.6711 - accuracy: 0.5823\n",
            "Epoch 2/20\n",
            "1008/1008 [==============================] - 1s 1ms/step - loss: 0.6420 - accuracy: 0.6349\n",
            "Epoch 3/20\n",
            "1008/1008 [==============================] - 1s 1ms/step - loss: 0.6341 - accuracy: 0.6468\n",
            "Epoch 4/20\n",
            "1008/1008 [==============================] - 1s 1ms/step - loss: 0.6335 - accuracy: 0.6478\n",
            "Epoch 5/20\n",
            "1008/1008 [==============================] - 1s 1ms/step - loss: 0.6331 - accuracy: 0.6498\n",
            "Epoch 6/20\n",
            "1008/1008 [==============================] - 1s 1ms/step - loss: 0.6318 - accuracy: 0.6458\n",
            "Epoch 7/20\n",
            "1008/1008 [==============================] - 1s 1ms/step - loss: 0.6311 - accuracy: 0.6567\n",
            "Epoch 8/20\n",
            "1008/1008 [==============================] - 1s 1ms/step - loss: 0.6313 - accuracy: 0.6558\n",
            "Epoch 9/20\n",
            "1008/1008 [==============================] - 1s 1ms/step - loss: 0.6281 - accuracy: 0.6488\n",
            "Epoch 10/20\n",
            "1008/1008 [==============================] - 1s 1ms/step - loss: 0.6287 - accuracy: 0.6558\n",
            "Epoch 11/20\n",
            "1008/1008 [==============================] - 1s 1ms/step - loss: 0.6293 - accuracy: 0.6458\n",
            "Epoch 12/20\n",
            "1008/1008 [==============================] - 1s 1ms/step - loss: 0.6301 - accuracy: 0.6498\n",
            "Epoch 13/20\n",
            "1008/1008 [==============================] - 1s 1ms/step - loss: 0.6302 - accuracy: 0.6488\n",
            "Epoch 14/20\n",
            "1008/1008 [==============================] - 1s 1ms/step - loss: 0.6291 - accuracy: 0.6508\n",
            "Epoch 15/20\n",
            "1008/1008 [==============================] - 1s 1ms/step - loss: 0.6288 - accuracy: 0.6498\n",
            "Epoch 16/20\n",
            "1008/1008 [==============================] - 1s 1ms/step - loss: 0.6277 - accuracy: 0.6498\n",
            "Epoch 17/20\n",
            "1008/1008 [==============================] - 1s 1ms/step - loss: 0.6291 - accuracy: 0.6498\n",
            "Epoch 18/20\n",
            "1008/1008 [==============================] - 1s 1ms/step - loss: 0.6282 - accuracy: 0.6488\n",
            "Epoch 19/20\n",
            "1008/1008 [==============================] - 1s 1ms/step - loss: 0.6268 - accuracy: 0.6518\n",
            "Epoch 20/20\n",
            "1008/1008 [==============================] - 1s 1ms/step - loss: 0.6279 - accuracy: 0.6528\n"
          ],
          "name": "stdout"
        },
        {
          "output_type": "execute_result",
          "data": {
            "text/plain": [
              "<tensorflow.python.keras.callbacks.History at 0x7fbfe40b7080>"
            ]
          },
          "metadata": {
            "tags": []
          },
          "execution_count": 8
        }
      ]
    }
  ]
}